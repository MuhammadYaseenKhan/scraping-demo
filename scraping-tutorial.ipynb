{
 "cells": [
  {
   "cell_type": "markdown",
   "id": "68b2001d-1c4a-4fb5-b6c5-e56d75e1e9ff",
   "metadata": {},
   "source": [
    "# Adminstrator\n",
    "# ssuet+cg5"
   ]
  },
  {
   "cell_type": "code",
   "execution_count": 48,
   "id": "5a8196a2-9431-4829-b935-52bbc128c2cf",
   "metadata": {},
   "outputs": [],
   "source": [
    "import json\n",
    "import requests\n",
    "from bs4 import BeautifulSoup"
   ]
  },
  {
   "cell_type": "code",
   "execution_count": 4,
   "id": "35163920-1dbf-4f6a-bf99-ca821560c5c9",
   "metadata": {},
   "outputs": [
    {
     "name": "stdout",
     "output_type": "stream",
     "text": [
      "['wood', 'letter', 'box', 'print', 'beautiful', 'soup', 'mobile', 'memory', 'card', 'shoe', 'cars']\n",
      "11\n"
     ]
    }
   ],
   "source": [
    "eng_words = ['wood', 'letter', 'box', 'print', 'beautiful', 'soup', 'mobile', 'memory', 'card', 'shoe', 'cars']\n",
    "print(eng_words)\n",
    "print(len(eng_words))"
   ]
  },
  {
   "cell_type": "code",
   "execution_count": 31,
   "id": "022f2099-748d-460d-b294-e5151a51bc0c",
   "metadata": {},
   "outputs": [],
   "source": [
    "web = 'https://www.ijunoon.com/dictionary/beautiful/'"
   ]
  },
  {
   "cell_type": "code",
   "execution_count": null,
   "id": "b387f65e-8d11-40f2-a23a-ac30e885e033",
   "metadata": {},
   "outputs": [],
   "source": []
  },
  {
   "cell_type": "code",
   "execution_count": 32,
   "id": "5253e62d-f23f-4ecf-aca1-ec95372f4efa",
   "metadata": {},
   "outputs": [
    {
     "name": "stdout",
     "output_type": "stream",
     "text": [
      "<Response [200]>\n"
     ]
    }
   ],
   "source": [
    "response = requests.get(web)\n",
    "print(response)"
   ]
  },
  {
   "cell_type": "code",
   "execution_count": 33,
   "id": "f7432d3d-ceec-4bba-8200-e6bb60251634",
   "metadata": {},
   "outputs": [
    {
     "data": {
      "text/plain": [
       "200"
      ]
     },
     "execution_count": 33,
     "metadata": {},
     "output_type": "execute_result"
    }
   ],
   "source": [
    "response.status_code"
   ]
  },
  {
   "cell_type": "code",
   "execution_count": null,
   "id": "15cf4b89-33b7-4582-ac51-bd024ba5b792",
   "metadata": {},
   "outputs": [],
   "source": [
    "response.content"
   ]
  },
  {
   "cell_type": "code",
   "execution_count": 35,
   "id": "dda37965-85cf-4e6c-85f4-0745b592f361",
   "metadata": {},
   "outputs": [],
   "source": [
    "soup = BeautifulSoup(response.content, 'html.parser')"
   ]
  },
  {
   "cell_type": "code",
   "execution_count": 36,
   "id": "c21001be-aaf4-4427-a18a-8f2db7b9b9a5",
   "metadata": {},
   "outputs": [
    {
     "name": "stdout",
     "output_type": "stream",
     "text": [
      "<div class=\"urdu_results\" id=\"urdu_results\">\n",
      "<div class=\"u\"><p>حسین</p></div><div class=\"r\"><p>haseen</p></div><div style=\"clear:both;\"></div><div class=\"u\"><p>دلکش</p></div><div class=\"r\"><p>dilkash</p></div><div style=\"clear:both;\"></div><div class=\"u\"><p>جمیل</p></div><div class=\"r\"><p>jameel</p></div><div style=\"clear:both;\"></div>\n",
      "<div style=\"clear:both;\"></div>\n",
      "</div>\n",
      "['haseen', 'dilkash', 'jameel']\n",
      "['حسین', 'دلکش', 'جمیل']\n",
      "[('haseen', 'حسین'), ('dilkash', 'دلکش'), ('jameel', 'جمیل')]\n"
     ]
    }
   ],
   "source": [
    "urdu_results = soup.find('div', class_='urdu_results')\n",
    "print(urdu_results)\n",
    "\n",
    "# main_word = urdu_results.find_all('p')\n",
    "# print(main_word)\n",
    "\n",
    "# roman_word = urdu_results.find('div', class_='r').find('p').text\n",
    "# urdu_word  = urdu_results.find('div', class_='u').find('p').text\n",
    "# print(roman_word)\n",
    "# print(urdu_word)\n",
    "\n",
    "words = urdu_results.find_all('div', class_='r')\n",
    "roman_words = []\n",
    "for i in words:\n",
    "    roman_words.append(i.find('p').text)\n",
    "\n",
    "words = urdu_results.find_all('div', class_='u')\n",
    "urdu_words = []\n",
    "for i in words:\n",
    "    urdu_words.append(i.find('p').text)\n",
    "\n",
    "print(roman_words)\n",
    "print(urdu_words)\n",
    "\n",
    "paired_words = list(zip(roman_words, urdu_words))\n",
    "print(paired_words)"
   ]
  },
  {
   "cell_type": "code",
   "execution_count": null,
   "id": "c072b5f8-19e7-4b40-8ff4-d12d3a4ae439",
   "metadata": {},
   "outputs": [],
   "source": []
  },
  {
   "cell_type": "code",
   "execution_count": 45,
   "id": "3cc4c368-e823-4ae1-a8c3-4296aa43f2a0",
   "metadata": {},
   "outputs": [
    {
     "name": "stdout",
     "output_type": "stream",
     "text": [
      "https://www.ijunoon.com/dictionary/wood/\n",
      "[<div class=\"r\"><p>lakri</p></div>]\n",
      "https://www.ijunoon.com/dictionary/letter/\n",
      "[<div class=\"r\"><p>harf</p></div>, <div class=\"r\"><p>khat</p></div>, <div class=\"r\"><p>marasla</p></div>, <div class=\"r\"><p>ilm</p></div>, <div class=\"r\"><p>adab</p></div>]\n",
      "https://www.ijunoon.com/dictionary/box/\n",
      "[<div class=\"r\"><p>aik pari jhaari</p></div>, <div class=\"r\"><p>sandooq</p></div>]\n",
      "https://www.ijunoon.com/dictionary/print/\n",
      "[<div class=\"r\"><p>chapna</p></div>, <div class=\"r\"><p>naqsh karna</p></div>, <div class=\"r\"><p>nishaan daalna</p></div>]\n",
      "https://www.ijunoon.com/dictionary/beautiful/\n",
      "[<div class=\"r\"><p>haseen</p></div>, <div class=\"r\"><p>dilkash</p></div>, <div class=\"r\"><p>jameel</p></div>]\n",
      "https://www.ijunoon.com/dictionary/soup/\n",
      "[<div class=\"r\"><p>yakhni</p></div>, <div class=\"r\"><p>shorba</p></div>, <div class=\"r\"><p>soop</p></div>]\n",
      "https://www.ijunoon.com/dictionary/mobile/\n",
      "[<div class=\"r\"><p>ghair mustaqil</p></div>, <div class=\"r\"><p>matloon</p></div>, <div class=\"r\"><p>chalnay phirnay wala</p></div>, <div class=\"r\"><p>naqal pazeer</p></div>, <div class=\"r\"><p>mubile</p></div>, <div class=\"r\"><p>mutharrak</p></div>, <div class=\"r\"><p>qabil e harkat</p></div>]\n",
      "https://www.ijunoon.com/dictionary/memory/\n",
      "[<div class=\"r\"><p>yaad</p></div>, <div class=\"r\"><p>hafza</p></div>]\n",
      "https://www.ijunoon.com/dictionary/card/\n",
      "[<div class=\"r\"><p>dhn-na</p></div>, <div class=\"r\"><p>dhankna</p></div>, <div class=\"r\"><p>tomna</p></div>, <div class=\"r\"><p>ban-na</p></div>, <div class=\"r\"><p>oon saaf karna</p></div>]\n",
      "https://www.ijunoon.com/dictionary/shoe/\n",
      "[<div class=\"r\"><p>joota</p></div>, <div class=\"r\"><p>jooti</p></div>, <div class=\"r\"><p>na-al bandi karna</p></div>, <div class=\"r\"><p>na-al charhana</p></div>]\n",
      "https://www.ijunoon.com/dictionary/cars/\n",
      "[<div class=\"r\"><p>gariyaan</p></div>, <div class=\"r\"><p>gariyon</p></div>]\n",
      "[('lakri', 'لکڑی'), ('harf', 'حرف'), ('khat', 'خط'), ('marasla', 'مراسلہ'), ('ilm', 'علم'), ('adab', 'ادب'), ('aik pari jhaari', 'ایک پری جھاڑی'), ('sandooq', 'صندوق'), ('chapna', 'چھاپنا'), ('naqsh karna', 'نقش کرنا'), ('nishaan daalna', 'نشان ڈالنا'), ('haseen', 'حسین'), ('dilkash', 'دلکش'), ('jameel', 'جمیل'), ('yakhni', 'یخنی'), ('shorba', 'شوربہ'), ('soop', 'سوپ'), ('ghair mustaqil', 'غیر مستقل'), ('matloon', 'متلون'), ('chalnay phirnay wala', 'چلنے پھرنے والا'), ('naqal pazeer', 'نقل پذیر'), ('mubile', 'موبائل'), ('mutharrak', 'متحرک'), ('qabil e harkat', 'قابل حرکت'), ('yaad', 'یاد'), ('hafza', 'حافظہ'), ('dhn-na', 'دھننا'), ('dhankna', 'دھنکنا'), ('tomna', 'تومنا'), ('ban-na', 'بننا'), ('oon saaf karna', 'اون صاف کرنا'), ('joota', 'جوتا'), ('jooti', 'جوتی'), ('na-al bandi karna', 'نعل بندی کرنا'), ('na-al charhana', 'نعل چڑہانا'), ('gariyaan', 'گاڑیاں'), ('gariyon', 'گاڑیوں')]\n"
     ]
    }
   ],
   "source": [
    "main_list = []\n",
    "for w in eng_words:\n",
    "    #print(w)\n",
    "    web = 'https://www.ijunoon.com/dictionary/' + w + '/'\n",
    "    print(web)\n",
    "    response = requests.get(web)\n",
    "    if response.status_code == 200:\n",
    "        soup = BeautifulSoup(response.content, 'html.parser')\n",
    "        urdu_results = soup.find('div', class_='urdu_results')\n",
    "        roman_words = []\n",
    "        urdu_words  = []\n",
    "        temp = urdu_results.find_all('div', class_='r')\n",
    "        print(temp)\n",
    "        for t in temp:\n",
    "            roman_words.append(t.find('p').text)\n",
    "            \n",
    "        temp = urdu_results.find_all('div', class_='u')\n",
    "        for t in temp:\n",
    "            urdu_words.append(t.find('p').text)\n",
    "            \n",
    "        main_list += list(zip(roman_words, urdu_words))\n",
    "        "
   ]
  },
  {
   "cell_type": "code",
   "execution_count": 46,
   "id": "7830e511-1f77-4376-b1aa-e53a4998d14a",
   "metadata": {},
   "outputs": [
    {
     "name": "stdout",
     "output_type": "stream",
     "text": [
      "[('lakri', 'لکڑی'), ('harf', 'حرف'), ('khat', 'خط'), ('marasla', 'مراسلہ'), ('ilm', 'علم'), ('adab', 'ادب'), ('aik pari jhaari', 'ایک پری جھاڑی'), ('sandooq', 'صندوق'), ('chapna', 'چھاپنا'), ('naqsh karna', 'نقش کرنا'), ('nishaan daalna', 'نشان ڈالنا'), ('haseen', 'حسین'), ('dilkash', 'دلکش'), ('jameel', 'جمیل'), ('yakhni', 'یخنی'), ('shorba', 'شوربہ'), ('soop', 'سوپ'), ('ghair mustaqil', 'غیر مستقل'), ('matloon', 'متلون'), ('chalnay phirnay wala', 'چلنے پھرنے والا'), ('naqal pazeer', 'نقل پذیر'), ('mubile', 'موبائل'), ('mutharrak', 'متحرک'), ('qabil e harkat', 'قابل حرکت'), ('yaad', 'یاد'), ('hafza', 'حافظہ'), ('dhn-na', 'دھننا'), ('dhankna', 'دھنکنا'), ('tomna', 'تومنا'), ('ban-na', 'بننا'), ('oon saaf karna', 'اون صاف کرنا'), ('joota', 'جوتا'), ('jooti', 'جوتی'), ('na-al bandi karna', 'نعل بندی کرنا'), ('na-al charhana', 'نعل چڑہانا'), ('gariyaan', 'گاڑیاں'), ('gariyon', 'گاڑیوں')]\n"
     ]
    }
   ],
   "source": [
    "print(main_list)\n"
   ]
  },
  {
   "cell_type": "code",
   "execution_count": 49,
   "id": "2f069b63-687a-4ed5-afb4-910d723f8354",
   "metadata": {},
   "outputs": [],
   "source": [
    "final_list = []\n",
    "for i in main_list:\n",
    "    final_list.append(list(i))\n",
    "with open('urdu-list.json', 'w', encoding='utf-8') as file:\n",
    "    json.dump(final_list, file, indent=1, ensure_ascii=False)"
   ]
  },
  {
   "cell_type": "code",
   "execution_count": null,
   "id": "2e360203-e4f0-4fb7-ada8-9dad1e4d92d4",
   "metadata": {},
   "outputs": [],
   "source": []
  }
 ],
 "metadata": {
  "kernelspec": {
   "display_name": "Python 3 (ipykernel)",
   "language": "python",
   "name": "python3"
  },
  "language_info": {
   "codemirror_mode": {
    "name": "ipython",
    "version": 3
   },
   "file_extension": ".py",
   "mimetype": "text/x-python",
   "name": "python",
   "nbconvert_exporter": "python",
   "pygments_lexer": "ipython3",
   "version": "3.9.7"
  }
 },
 "nbformat": 4,
 "nbformat_minor": 5
}
